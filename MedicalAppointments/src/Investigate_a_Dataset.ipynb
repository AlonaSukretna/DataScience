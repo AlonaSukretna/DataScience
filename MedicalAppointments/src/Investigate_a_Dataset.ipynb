{
 "cells": [
  {
   "cell_type": "markdown",
   "metadata": {},
   "source": [
    "<a id='intro'></a>\n",
    "## Introduction\n",
    "\n",
    "I've selected \"No-show appointments\" data set for analysis, which I uploaded to this workspace. This dataset collects information from 100k medical appointments in Brazil and is focused on the question of whether or not patients show up for their appointment.\n",
    "\n",
    "Questions that I plan on exploring: \n",
    "    1. What is the percentage for show-up patients in total.\n",
    "    2. Which hospital (Neighbourhood) has more show-up patients.\n",
    "    3. How depend show-up from: \n",
    "       -gender\n",
    "       -age\n",
    "       -if patient has a scholarship(enrolled in Bolsa Familia)\n",
    "       -if patient has hipertension, diabebetis, alcoholism, handcaped\n",
    "\n"
   ]
  },
  {
   "cell_type": "code",
   "execution_count": 1,
   "metadata": {
    "scrolled": true
   },
   "outputs": [],
   "source": [
    "#  set up all of the packages that I plan to use.\n",
    "import pandas as pd\n",
    "import numpy as np\n",
    "%matplotlib inline\n",
    "import matplotlib.pyplot as plt\n"
   ]
  },
  {
   "cell_type": "markdown",
   "metadata": {},
   "source": [
    "<a id='wrangling'></a>\n",
    "## Data Wrangling\n",
    "\n",
    "> In this section of the report, I load in the data, check it for cleanliness, and then trim and clean dataset for analysis. \n",
    "### General Properties"
   ]
  },
  {
   "cell_type": "code",
   "execution_count": 2,
   "metadata": {
    "scrolled": false
   },
   "outputs": [
    {
     "data": {
      "text/html": [
       "<div>\n",
       "<style>\n",
       "    .dataframe thead tr:only-child th {\n",
       "        text-align: right;\n",
       "    }\n",
       "\n",
       "    .dataframe thead th {\n",
       "        text-align: left;\n",
       "    }\n",
       "\n",
       "    .dataframe tbody tr th {\n",
       "        vertical-align: top;\n",
       "    }\n",
       "</style>\n",
       "<table border=\"1\" class=\"dataframe\">\n",
       "  <thead>\n",
       "    <tr style=\"text-align: right;\">\n",
       "      <th></th>\n",
       "      <th>PatientId</th>\n",
       "      <th>AppointmentID</th>\n",
       "      <th>Gender</th>\n",
       "      <th>ScheduledDay</th>\n",
       "      <th>AppointmentDay</th>\n",
       "      <th>Age</th>\n",
       "      <th>Neighbourhood</th>\n",
       "      <th>Scholarship</th>\n",
       "      <th>Hipertension</th>\n",
       "      <th>Diabetes</th>\n",
       "      <th>Alcoholism</th>\n",
       "      <th>Handcap</th>\n",
       "      <th>SMS_received</th>\n",
       "      <th>No-show</th>\n",
       "    </tr>\n",
       "  </thead>\n",
       "  <tbody>\n",
       "    <tr>\n",
       "      <th>0</th>\n",
       "      <td>2.987250e+13</td>\n",
       "      <td>5642903</td>\n",
       "      <td>F</td>\n",
       "      <td>2016-04-29T18:38:08Z</td>\n",
       "      <td>2016-04-29T00:00:00Z</td>\n",
       "      <td>62</td>\n",
       "      <td>JARDIM DA PENHA</td>\n",
       "      <td>0</td>\n",
       "      <td>1</td>\n",
       "      <td>0</td>\n",
       "      <td>0</td>\n",
       "      <td>0</td>\n",
       "      <td>0</td>\n",
       "      <td>No</td>\n",
       "    </tr>\n",
       "  </tbody>\n",
       "</table>\n",
       "</div>"
      ],
      "text/plain": [
       "      PatientId  AppointmentID Gender          ScheduledDay  \\\n",
       "0  2.987250e+13        5642903      F  2016-04-29T18:38:08Z   \n",
       "\n",
       "         AppointmentDay  Age    Neighbourhood  Scholarship  Hipertension  \\\n",
       "0  2016-04-29T00:00:00Z   62  JARDIM DA PENHA            0             1   \n",
       "\n",
       "   Diabetes  Alcoholism  Handcap  SMS_received No-show  \n",
       "0         0           0        0             0      No  "
      ]
     },
     "execution_count": 2,
     "metadata": {},
     "output_type": "execute_result"
    }
   ],
   "source": [
    "# Load data and print out a line. \n",
    "df = pd.read_csv('noshowappointments-kagglev2-may-2016.csv')\n",
    "df.head(1)"
   ]
  },
  {
   "cell_type": "code",
   "execution_count": 3,
   "metadata": {
    "scrolled": true
   },
   "outputs": [
    {
     "data": {
      "text/plain": [
       "(110527, 14)"
      ]
     },
     "execution_count": 3,
     "metadata": {},
     "output_type": "execute_result"
    }
   ],
   "source": [
    "#Perform operations to inspect data\n",
    "df.shape"
   ]
  },
  {
   "cell_type": "markdown",
   "metadata": {},
   "source": [
    ">We can see that our file has 110527 records ans 14 columns."
   ]
  },
  {
   "cell_type": "code",
   "execution_count": 4,
   "metadata": {
    "scrolled": true
   },
   "outputs": [
    {
     "name": "stdout",
     "output_type": "stream",
     "text": [
      "<class 'pandas.core.frame.DataFrame'>\n",
      "RangeIndex: 110527 entries, 0 to 110526\n",
      "Data columns (total 14 columns):\n",
      "PatientId         110527 non-null float64\n",
      "AppointmentID     110527 non-null int64\n",
      "Gender            110527 non-null object\n",
      "ScheduledDay      110527 non-null object\n",
      "AppointmentDay    110527 non-null object\n",
      "Age               110527 non-null int64\n",
      "Neighbourhood     110527 non-null object\n",
      "Scholarship       110527 non-null int64\n",
      "Hipertension      110527 non-null int64\n",
      "Diabetes          110527 non-null int64\n",
      "Alcoholism        110527 non-null int64\n",
      "Handcap           110527 non-null int64\n",
      "SMS_received      110527 non-null int64\n",
      "No-show           110527 non-null object\n",
      "dtypes: float64(1), int64(8), object(5)\n",
      "memory usage: 11.8+ MB\n"
     ]
    }
   ],
   "source": [
    "#  Find out data types and look for missing data.\n",
    "df.info()"
   ]
  },
  {
   "cell_type": "markdown",
   "metadata": {},
   "source": [
    "> We don't have missing data. And we can see the datatype of each column here."
   ]
  },
  {
   "cell_type": "code",
   "execution_count": 5,
   "metadata": {
    "scrolled": true
   },
   "outputs": [
    {
     "data": {
      "text/plain": [
       "0"
      ]
     },
     "execution_count": 5,
     "metadata": {},
     "output_type": "execute_result"
    }
   ],
   "source": [
    "#Check if there is duplicates in our data set\n",
    "sum(df.duplicated())"
   ]
  },
  {
   "cell_type": "markdown",
   "metadata": {},
   "source": [
    ">And we don't have duplicates."
   ]
  },
  {
   "cell_type": "code",
   "execution_count": 6,
   "metadata": {
    "scrolled": true
   },
   "outputs": [
    {
     "data": {
      "text/plain": [
       "62299"
      ]
     },
     "execution_count": 6,
     "metadata": {},
     "output_type": "execute_result"
    }
   ],
   "source": [
    "#Find out how many unique patients in our data set\n",
    "df['PatientId'].nunique()"
   ]
  },
  {
   "cell_type": "markdown",
   "metadata": {},
   "source": [
    ">And we have 62299 unique patients out of 110527 records. So some of them is returning patients."
   ]
  },
  {
   "cell_type": "code",
   "execution_count": 7,
   "metadata": {
    "scrolled": true
   },
   "outputs": [
    {
     "data": {
      "text/plain": [
       "PatientId         0\n",
       "AppointmentID     0\n",
       "Gender            0\n",
       "ScheduledDay      0\n",
       "AppointmentDay    0\n",
       "Age               0\n",
       "Neighbourhood     0\n",
       "Scholarship       0\n",
       "Hipertension      0\n",
       "Diabetes          0\n",
       "Alcoholism        0\n",
       "Handcap           0\n",
       "SMS_received      0\n",
       "No-show           0\n",
       "dtype: int64"
      ]
     },
     "execution_count": 7,
     "metadata": {},
     "output_type": "execute_result"
    }
   ],
   "source": [
    "#Check if there is null data in our data set.\n",
    "df.isnull().sum()"
   ]
  },
  {
   "cell_type": "markdown",
   "metadata": {},
   "source": [
    "> There is no null data in our data set"
   ]
  },
  {
   "cell_type": "markdown",
   "metadata": {},
   "source": [
    "\n",
    "### Data Cleaning"
   ]
  },
  {
   "cell_type": "code",
   "execution_count": 8,
   "metadata": {
    "scrolled": true
   },
   "outputs": [],
   "source": [
    "# Rename column \"No-show\" with underscore instead of dash for more convenience\n",
    "df.rename(columns={'No-show':'No_show'}, inplace=True)\n"
   ]
  },
  {
   "cell_type": "code",
   "execution_count": 9,
   "metadata": {
    "scrolled": true
   },
   "outputs": [
    {
     "data": {
      "text/html": [
       "<div>\n",
       "<style>\n",
       "    .dataframe thead tr:only-child th {\n",
       "        text-align: right;\n",
       "    }\n",
       "\n",
       "    .dataframe thead th {\n",
       "        text-align: left;\n",
       "    }\n",
       "\n",
       "    .dataframe tbody tr th {\n",
       "        vertical-align: top;\n",
       "    }\n",
       "</style>\n",
       "<table border=\"1\" class=\"dataframe\">\n",
       "  <thead>\n",
       "    <tr style=\"text-align: right;\">\n",
       "      <th></th>\n",
       "      <th>PatientId</th>\n",
       "      <th>AppointmentID</th>\n",
       "      <th>Gender</th>\n",
       "      <th>ScheduledDay</th>\n",
       "      <th>AppointmentDay</th>\n",
       "      <th>Age</th>\n",
       "      <th>Neighbourhood</th>\n",
       "      <th>Scholarship</th>\n",
       "      <th>Hipertension</th>\n",
       "      <th>Diabetes</th>\n",
       "      <th>Alcoholism</th>\n",
       "      <th>Handcap</th>\n",
       "      <th>SMS_received</th>\n",
       "      <th>No_show</th>\n",
       "    </tr>\n",
       "  </thead>\n",
       "  <tbody>\n",
       "  </tbody>\n",
       "</table>\n",
       "</div>"
      ],
      "text/plain": [
       "Empty DataFrame\n",
       "Columns: [PatientId, AppointmentID, Gender, ScheduledDay, AppointmentDay, Age, Neighbourhood, Scholarship, Hipertension, Diabetes, Alcoholism, Handcap, SMS_received, No_show]\n",
       "Index: []"
      ]
     },
     "execution_count": 9,
     "metadata": {},
     "output_type": "execute_result"
    }
   ],
   "source": [
    "# During analysis I found that in 'Age' column there is value \"-1\". I want to clean it here\n",
    "# by excluding this column from our data set.\n",
    "df = df[df.Age != -1]\n",
    "#check\n",
    "df.loc[df['Age'] == -1]"
   ]
  },
  {
   "cell_type": "code",
   "execution_count": 10,
   "metadata": {
    "scrolled": true
   },
   "outputs": [
    {
     "data": {
      "text/plain": [
       "0     0\n",
       "1     0\n",
       "2     0\n",
       "3     0\n",
       "4     0\n",
       "5     0\n",
       "6     1\n",
       "7     1\n",
       "8     0\n",
       "9     0\n",
       "10    0\n",
       "11    1\n",
       "12    0\n",
       "13    0\n",
       "14    0\n",
       "15    0\n",
       "16    0\n",
       "17    1\n",
       "18    0\n",
       "19    0\n",
       "Name: Show, dtype: int64"
      ]
     },
     "execution_count": 10,
     "metadata": {},
     "output_type": "execute_result"
    }
   ],
   "source": [
    "# Replace no-show \"yes\" to \"0\" \"no\" to \"1\" and add a new column \"Show\" with 0/1 values\n",
    "df['Show'] = df.No_show.eq('Yes').mul(1)\n",
    "#check\n",
    "df['Show'].head(20)"
   ]
  },
  {
   "cell_type": "code",
   "execution_count": 12,
   "metadata": {},
   "outputs": [
    {
     "data": {
      "text/html": [
       "<div>\n",
       "<style>\n",
       "    .dataframe thead tr:only-child th {\n",
       "        text-align: right;\n",
       "    }\n",
       "\n",
       "    .dataframe thead th {\n",
       "        text-align: left;\n",
       "    }\n",
       "\n",
       "    .dataframe tbody tr th {\n",
       "        vertical-align: top;\n",
       "    }\n",
       "</style>\n",
       "<table border=\"1\" class=\"dataframe\">\n",
       "  <thead>\n",
       "    <tr style=\"text-align: right;\">\n",
       "      <th></th>\n",
       "      <th>Age</th>\n",
       "      <th>Age_group</th>\n",
       "      <th>Alcoholism</th>\n",
       "      <th>AppointmentDay</th>\n",
       "      <th>AppointmentID</th>\n",
       "      <th>Diabetes</th>\n",
       "      <th>Gender</th>\n",
       "      <th>Handcap</th>\n",
       "      <th>Hipertension</th>\n",
       "      <th>Neighbourhood</th>\n",
       "      <th>No_show</th>\n",
       "      <th>PatientId</th>\n",
       "      <th>SMS_received</th>\n",
       "      <th>ScheduledDay</th>\n",
       "      <th>Scholarship</th>\n",
       "      <th>Show</th>\n",
       "    </tr>\n",
       "  </thead>\n",
       "  <tbody>\n",
       "    <tr>\n",
       "      <th>0</th>\n",
       "      <td>62.0</td>\n",
       "      <td>57-115</td>\n",
       "      <td>0.0</td>\n",
       "      <td>2016-04-29T00:00:00Z</td>\n",
       "      <td>5642903.0</td>\n",
       "      <td>0.0</td>\n",
       "      <td>F</td>\n",
       "      <td>0.0</td>\n",
       "      <td>1.0</td>\n",
       "      <td>JARDIM DA PENHA</td>\n",
       "      <td>No</td>\n",
       "      <td>2.987250e+13</td>\n",
       "      <td>0.0</td>\n",
       "      <td>2016-04-29T18:38:08Z</td>\n",
       "      <td>0.0</td>\n",
       "      <td>0.0</td>\n",
       "    </tr>\n",
       "  </tbody>\n",
       "</table>\n",
       "</div>"
      ],
      "text/plain": [
       "    Age Age_group  Alcoholism        AppointmentDay  AppointmentID  Diabetes  \\\n",
       "0  62.0    57-115         0.0  2016-04-29T00:00:00Z      5642903.0       0.0   \n",
       "\n",
       "  Gender  Handcap  Hipertension    Neighbourhood No_show     PatientId  \\\n",
       "0      F      0.0           1.0  JARDIM DA PENHA      No  2.987250e+13   \n",
       "\n",
       "   SMS_received          ScheduledDay  Scholarship  Show  \n",
       "0           0.0  2016-04-29T18:38:08Z          0.0   0.0  "
      ]
     },
     "execution_count": 12,
     "metadata": {},
     "output_type": "execute_result"
    }
   ],
   "source": [
    "# Add one more column for Age_group\n",
    "# Reference: https://stackoverflow.com/questions/30926670/pandas-add-multiple-empty-columns-to-dataframe\n",
    "df = pd.concat([df, pd.DataFrame(columns=['Age_group'])])\n",
    "#cut age to groups\n",
    "bin_edges = [0, 18 , 38, 56, 115]\n",
    "#labeles for each age group\n",
    "bin_names = ['<=18', '19-38', '39-56', '57-115']\n",
    "#Assign values to column \"Age_group\" based on cutting \"Age\" columns\n",
    "df.loc[:, 'Age_group'] = pd.cut(df['Age'], bin_edges, labels=bin_names, include_lowest=True)\n",
    "df.head(1)"
   ]
  },
  {
   "cell_type": "markdown",
   "metadata": {},
   "source": [
    "<a id='eda'></a>\n",
    "## Exploratory Data Analysis\n",
    "\n",
    "\n",
    "### Research Question 1: What is the percentage for show-up patients in total."
   ]
  },
  {
   "cell_type": "code",
   "execution_count": 13,
   "metadata": {
    "scrolled": true
   },
   "outputs": [
    {
     "data": {
      "text/plain": [
       "(88207, 16)"
      ]
     },
     "execution_count": 13,
     "metadata": {},
     "output_type": "execute_result"
    }
   ],
   "source": [
    "# Create new data set df_show only for patients that shows on appointment\n",
    "df_show = df[df['No_show'] == 'No']\n",
    "# Find out sizes for created data set\n",
    "df_show.shape"
   ]
  },
  {
   "cell_type": "code",
   "execution_count": 14,
   "metadata": {
    "scrolled": true
   },
   "outputs": [
    {
     "data": {
      "text/plain": [
       "0.79806561352080052"
      ]
     },
     "execution_count": 14,
     "metadata": {},
     "output_type": "execute_result"
    }
   ],
   "source": [
    "# Calculate percentage for show-up patients vs total patients with appointments\n",
    "pct_show = df_show['PatientId'].count()/df['PatientId'].count()\n",
    "pct_show"
   ]
  },
  {
   "cell_type": "markdown",
   "metadata": {},
   "source": [
    "> We selected all appointments  tha was showed-up. There is 88208 out of 110527 total. It's 79,8%."
   ]
  },
  {
   "cell_type": "code",
   "execution_count": 15,
   "metadata": {
    "scrolled": true
   },
   "outputs": [
    {
     "data": {
      "image/png": "[encoded data removed]",
      "text/plain": [
       "<matplotlib.figure.Figure at 0x7f27bdf51080>"
      ]
     },
     "metadata": {},
     "output_type": "display_data"
    }
   ],
   "source": [
    "#Visualization: Percentage of patients that show vs no-show.\n",
    "df_my = pd.DataFrame({'Show':[pct_show*100],\n",
    "                   'No show':[(1-pct_show)*100]})\n",
    "df_my.plot(kind='bar',title='Percentage of patients that show vs no-show')\n",
    "plt.ylabel('Percentage')\n",
    "plt.show()"
   ]
  },
  {
   "cell_type": "markdown",
   "metadata": {},
   "source": [
    "### Research Question 2:  Which hospital (Neighbourhood) has more show-up patients."
   ]
  },
  {
   "cell_type": "code",
   "execution_count": 16,
   "metadata": {
    "scrolled": true
   },
   "outputs": [
    {
     "data": {
      "text/plain": [
       "80"
      ]
     },
     "execution_count": 16,
     "metadata": {},
     "output_type": "execute_result"
    }
   ],
   "source": [
    "# Check how much unique values of hospital (Neighbourhood) we have for data set with only show-up patients\n",
    "df_show['Neighbourhood'].nunique()"
   ]
  },
  {
   "cell_type": "code",
   "execution_count": 17,
   "metadata": {
    "scrolled": true
   },
   "outputs": [
    {
     "data": {
      "text/html": [
       "<div>\n",
       "<style>\n",
       "    .dataframe thead tr:only-child th {\n",
       "        text-align: right;\n",
       "    }\n",
       "\n",
       "    .dataframe thead th {\n",
       "        text-align: left;\n",
       "    }\n",
       "\n",
       "    .dataframe tbody tr th {\n",
       "        vertical-align: top;\n",
       "    }\n",
       "</style>\n",
       "<table border=\"1\" class=\"dataframe\">\n",
       "  <thead>\n",
       "    <tr style=\"text-align: right;\">\n",
       "      <th></th>\n",
       "      <th>Neighbourhood</th>\n",
       "      <th>AppointmentID</th>\n",
       "    </tr>\n",
       "  </thead>\n",
       "  <tbody>\n",
       "    <tr>\n",
       "      <th>0</th>\n",
       "      <td>AEROPORTO</td>\n",
       "      <td>7</td>\n",
       "    </tr>\n",
       "    <tr>\n",
       "      <th>1</th>\n",
       "      <td>ANDORINHAS</td>\n",
       "      <td>1741</td>\n",
       "    </tr>\n",
       "    <tr>\n",
       "      <th>2</th>\n",
       "      <td>ANTÔNIO HONÓRIO</td>\n",
       "      <td>221</td>\n",
       "    </tr>\n",
       "    <tr>\n",
       "      <th>3</th>\n",
       "      <td>ARIOVALDO FAVALESSA</td>\n",
       "      <td>220</td>\n",
       "    </tr>\n",
       "    <tr>\n",
       "      <th>4</th>\n",
       "      <td>BARRO VERMELHO</td>\n",
       "      <td>332</td>\n",
       "    </tr>\n",
       "    <tr>\n",
       "      <th>5</th>\n",
       "      <td>BELA VISTA</td>\n",
       "      <td>1523</td>\n",
       "    </tr>\n",
       "    <tr>\n",
       "      <th>6</th>\n",
       "      <td>BENTO FERREIRA</td>\n",
       "      <td>665</td>\n",
       "    </tr>\n",
       "    <tr>\n",
       "      <th>7</th>\n",
       "      <td>BOA VISTA</td>\n",
       "      <td>254</td>\n",
       "    </tr>\n",
       "    <tr>\n",
       "      <th>8</th>\n",
       "      <td>BONFIM</td>\n",
       "      <td>2223</td>\n",
       "    </tr>\n",
       "    <tr>\n",
       "      <th>9</th>\n",
       "      <td>CARATOÍRA</td>\n",
       "      <td>1974</td>\n",
       "    </tr>\n",
       "    <tr>\n",
       "      <th>10</th>\n",
       "      <td>CENTRO</td>\n",
       "      <td>2631</td>\n",
       "    </tr>\n",
       "    <tr>\n",
       "      <th>11</th>\n",
       "      <td>COMDUSA</td>\n",
       "      <td>254</td>\n",
       "    </tr>\n",
       "    <tr>\n",
       "      <th>12</th>\n",
       "      <td>CONQUISTA</td>\n",
       "      <td>689</td>\n",
       "    </tr>\n",
       "    <tr>\n",
       "      <th>13</th>\n",
       "      <td>CONSOLAÇÃO</td>\n",
       "      <td>1139</td>\n",
       "    </tr>\n",
       "    <tr>\n",
       "      <th>14</th>\n",
       "      <td>CRUZAMENTO</td>\n",
       "      <td>1094</td>\n",
       "    </tr>\n",
       "    <tr>\n",
       "      <th>15</th>\n",
       "      <td>DA PENHA</td>\n",
       "      <td>1788</td>\n",
       "    </tr>\n",
       "    <tr>\n",
       "      <th>16</th>\n",
       "      <td>DE LOURDES</td>\n",
       "      <td>258</td>\n",
       "    </tr>\n",
       "    <tr>\n",
       "      <th>17</th>\n",
       "      <td>DO CABRAL</td>\n",
       "      <td>472</td>\n",
       "    </tr>\n",
       "    <tr>\n",
       "      <th>18</th>\n",
       "      <td>DO MOSCOSO</td>\n",
       "      <td>321</td>\n",
       "    </tr>\n",
       "    <tr>\n",
       "      <th>19</th>\n",
       "      <td>DO QUADRO</td>\n",
       "      <td>709</td>\n",
       "    </tr>\n",
       "    <tr>\n",
       "      <th>20</th>\n",
       "      <td>ENSEADA DO SUÁ</td>\n",
       "      <td>183</td>\n",
       "    </tr>\n",
       "    <tr>\n",
       "      <th>21</th>\n",
       "      <td>ESTRELINHA</td>\n",
       "      <td>432</td>\n",
       "    </tr>\n",
       "    <tr>\n",
       "      <th>22</th>\n",
       "      <td>FONTE GRANDE</td>\n",
       "      <td>533</td>\n",
       "    </tr>\n",
       "    <tr>\n",
       "      <th>23</th>\n",
       "      <td>FORTE SÃO JOÃO</td>\n",
       "      <td>1543</td>\n",
       "    </tr>\n",
       "    <tr>\n",
       "      <th>24</th>\n",
       "      <td>FRADINHOS</td>\n",
       "      <td>210</td>\n",
       "    </tr>\n",
       "    <tr>\n",
       "      <th>25</th>\n",
       "      <td>GOIABEIRAS</td>\n",
       "      <td>563</td>\n",
       "    </tr>\n",
       "    <tr>\n",
       "      <th>26</th>\n",
       "      <td>GRANDE VITÓRIA</td>\n",
       "      <td>854</td>\n",
       "    </tr>\n",
       "    <tr>\n",
       "      <th>27</th>\n",
       "      <td>GURIGICA</td>\n",
       "      <td>1562</td>\n",
       "    </tr>\n",
       "    <tr>\n",
       "      <th>28</th>\n",
       "      <td>HORTO</td>\n",
       "      <td>133</td>\n",
       "    </tr>\n",
       "    <tr>\n",
       "      <th>29</th>\n",
       "      <td>ILHA DAS CAIEIRAS</td>\n",
       "      <td>836</td>\n",
       "    </tr>\n",
       "    <tr>\n",
       "      <th>...</th>\n",
       "      <td>...</td>\n",
       "      <td>...</td>\n",
       "    </tr>\n",
       "    <tr>\n",
       "      <th>50</th>\n",
       "      <td>PARQUE INDUSTRIAL</td>\n",
       "      <td>1</td>\n",
       "    </tr>\n",
       "    <tr>\n",
       "      <th>51</th>\n",
       "      <td>PARQUE MOSCOSO</td>\n",
       "      <td>623</td>\n",
       "    </tr>\n",
       "    <tr>\n",
       "      <th>52</th>\n",
       "      <td>PIEDADE</td>\n",
       "      <td>364</td>\n",
       "    </tr>\n",
       "    <tr>\n",
       "      <th>53</th>\n",
       "      <td>PONTAL DE CAMBURI</td>\n",
       "      <td>57</td>\n",
       "    </tr>\n",
       "    <tr>\n",
       "      <th>54</th>\n",
       "      <td>PRAIA DO CANTO</td>\n",
       "      <td>845</td>\n",
       "    </tr>\n",
       "    <tr>\n",
       "      <th>55</th>\n",
       "      <td>PRAIA DO SUÁ</td>\n",
       "      <td>994</td>\n",
       "    </tr>\n",
       "    <tr>\n",
       "      <th>56</th>\n",
       "      <td>REDENÇÃO</td>\n",
       "      <td>1278</td>\n",
       "    </tr>\n",
       "    <tr>\n",
       "      <th>57</th>\n",
       "      <td>REPÚBLICA</td>\n",
       "      <td>692</td>\n",
       "    </tr>\n",
       "    <tr>\n",
       "      <th>58</th>\n",
       "      <td>RESISTÊNCIA</td>\n",
       "      <td>3525</td>\n",
       "    </tr>\n",
       "    <tr>\n",
       "      <th>59</th>\n",
       "      <td>ROMÃO</td>\n",
       "      <td>1740</td>\n",
       "    </tr>\n",
       "    <tr>\n",
       "      <th>60</th>\n",
       "      <td>SANTA CECÍLIA</td>\n",
       "      <td>325</td>\n",
       "    </tr>\n",
       "    <tr>\n",
       "      <th>61</th>\n",
       "      <td>SANTA CLARA</td>\n",
       "      <td>372</td>\n",
       "    </tr>\n",
       "    <tr>\n",
       "      <th>62</th>\n",
       "      <td>SANTA HELENA</td>\n",
       "      <td>141</td>\n",
       "    </tr>\n",
       "    <tr>\n",
       "      <th>63</th>\n",
       "      <td>SANTA LUÍZA</td>\n",
       "      <td>351</td>\n",
       "    </tr>\n",
       "    <tr>\n",
       "      <th>64</th>\n",
       "      <td>SANTA LÚCIA</td>\n",
       "      <td>352</td>\n",
       "    </tr>\n",
       "    <tr>\n",
       "      <th>65</th>\n",
       "      <td>SANTA MARTHA</td>\n",
       "      <td>2635</td>\n",
       "    </tr>\n",
       "    <tr>\n",
       "      <th>66</th>\n",
       "      <td>SANTA TEREZA</td>\n",
       "      <td>1060</td>\n",
       "    </tr>\n",
       "    <tr>\n",
       "      <th>67</th>\n",
       "      <td>SANTO ANDRÉ</td>\n",
       "      <td>2063</td>\n",
       "    </tr>\n",
       "    <tr>\n",
       "      <th>68</th>\n",
       "      <td>SANTO ANTÔNIO</td>\n",
       "      <td>2262</td>\n",
       "    </tr>\n",
       "    <tr>\n",
       "      <th>69</th>\n",
       "      <td>SANTOS DUMONT</td>\n",
       "      <td>907</td>\n",
       "    </tr>\n",
       "    <tr>\n",
       "      <th>70</th>\n",
       "      <td>SANTOS REIS</td>\n",
       "      <td>435</td>\n",
       "    </tr>\n",
       "    <tr>\n",
       "      <th>71</th>\n",
       "      <td>SEGURANÇA DO LAR</td>\n",
       "      <td>117</td>\n",
       "    </tr>\n",
       "    <tr>\n",
       "      <th>72</th>\n",
       "      <td>SOLON BORGES</td>\n",
       "      <td>400</td>\n",
       "    </tr>\n",
       "    <tr>\n",
       "      <th>73</th>\n",
       "      <td>SÃO BENEDITO</td>\n",
       "      <td>1152</td>\n",
       "    </tr>\n",
       "    <tr>\n",
       "      <th>74</th>\n",
       "      <td>SÃO CRISTÓVÃO</td>\n",
       "      <td>1473</td>\n",
       "    </tr>\n",
       "    <tr>\n",
       "      <th>75</th>\n",
       "      <td>SÃO JOSÉ</td>\n",
       "      <td>1549</td>\n",
       "    </tr>\n",
       "    <tr>\n",
       "      <th>76</th>\n",
       "      <td>SÃO PEDRO</td>\n",
       "      <td>1933</td>\n",
       "    </tr>\n",
       "    <tr>\n",
       "      <th>77</th>\n",
       "      <td>TABUAZEIRO</td>\n",
       "      <td>2559</td>\n",
       "    </tr>\n",
       "    <tr>\n",
       "      <th>78</th>\n",
       "      <td>UNIVERSITÁRIO</td>\n",
       "      <td>120</td>\n",
       "    </tr>\n",
       "    <tr>\n",
       "      <th>79</th>\n",
       "      <td>VILA RUBIM</td>\n",
       "      <td>710</td>\n",
       "    </tr>\n",
       "  </tbody>\n",
       "</table>\n",
       "<p>80 rows × 2 columns</p>\n",
       "</div>"
      ],
      "text/plain": [
       "          Neighbourhood  AppointmentID\n",
       "0             AEROPORTO              7\n",
       "1            ANDORINHAS           1741\n",
       "2       ANTÔNIO HONÓRIO            221\n",
       "3   ARIOVALDO FAVALESSA            220\n",
       "4        BARRO VERMELHO            332\n",
       "5            BELA VISTA           1523\n",
       "6        BENTO FERREIRA            665\n",
       "7             BOA VISTA            254\n",
       "8                BONFIM           2223\n",
       "9             CARATOÍRA           1974\n",
       "10               CENTRO           2631\n",
       "11              COMDUSA            254\n",
       "12            CONQUISTA            689\n",
       "13           CONSOLAÇÃO           1139\n",
       "14           CRUZAMENTO           1094\n",
       "15             DA PENHA           1788\n",
       "16           DE LOURDES            258\n",
       "17            DO CABRAL            472\n",
       "18           DO MOSCOSO            321\n",
       "19            DO QUADRO            709\n",
       "20       ENSEADA DO SUÁ            183\n",
       "21           ESTRELINHA            432\n",
       "22         FONTE GRANDE            533\n",
       "23       FORTE SÃO JOÃO           1543\n",
       "24            FRADINHOS            210\n",
       "25           GOIABEIRAS            563\n",
       "26       GRANDE VITÓRIA            854\n",
       "27             GURIGICA           1562\n",
       "28                HORTO            133\n",
       "29    ILHA DAS CAIEIRAS            836\n",
       "..                  ...            ...\n",
       "50    PARQUE INDUSTRIAL              1\n",
       "51       PARQUE MOSCOSO            623\n",
       "52              PIEDADE            364\n",
       "53    PONTAL DE CAMBURI             57\n",
       "54       PRAIA DO CANTO            845\n",
       "55         PRAIA DO SUÁ            994\n",
       "56             REDENÇÃO           1278\n",
       "57            REPÚBLICA            692\n",
       "58          RESISTÊNCIA           3525\n",
       "59                ROMÃO           1740\n",
       "60        SANTA CECÍLIA            325\n",
       "61          SANTA CLARA            372\n",
       "62         SANTA HELENA            141\n",
       "63          SANTA LUÍZA            351\n",
       "64          SANTA LÚCIA            352\n",
       "65         SANTA MARTHA           2635\n",
       "66         SANTA TEREZA           1060\n",
       "67          SANTO ANDRÉ           2063\n",
       "68        SANTO ANTÔNIO           2262\n",
       "69        SANTOS DUMONT            907\n",
       "70          SANTOS REIS            435\n",
       "71     SEGURANÇA DO LAR            117\n",
       "72         SOLON BORGES            400\n",
       "73         SÃO BENEDITO           1152\n",
       "74        SÃO CRISTÓVÃO           1473\n",
       "75             SÃO JOSÉ           1549\n",
       "76            SÃO PEDRO           1933\n",
       "77           TABUAZEIRO           2559\n",
       "78        UNIVERSITÁRIO            120\n",
       "79           VILA RUBIM            710\n",
       "\n",
       "[80 rows x 2 columns]"
      ]
     },
     "execution_count": 17,
     "metadata": {},
     "output_type": "execute_result"
    }
   ],
   "source": [
    "# Find how much show appointments in each hospital\n",
    "df_show.groupby(['Neighbourhood'], as_index=False)['AppointmentID'].count()"
   ]
  },
  {
   "cell_type": "code",
   "execution_count": 18,
   "metadata": {
    "scrolled": true
   },
   "outputs": [
    {
     "data": {
      "text/plain": [
       "['JARDIM CAMBURI', 6252]"
      ]
     },
     "execution_count": 18,
     "metadata": {},
     "output_type": "execute_result"
    }
   ],
   "source": [
    "#Find and print hospital name  with maximum count of show appointments\n",
    "df_neighbourhood = df_show.groupby(['Neighbourhood'])['AppointmentID'].count()\n",
    "\n",
    "[df_neighbourhood.idxmax(), df_neighbourhood.max()]"
   ]
  },
  {
   "cell_type": "code",
   "execution_count": 19,
   "metadata": {
    "scrolled": true
   },
   "outputs": [
    {
     "data": {
      "text/plain": [
       "['PARQUE INDUSTRIAL', 1]"
      ]
     },
     "execution_count": 19,
     "metadata": {},
     "output_type": "execute_result"
    }
   ],
   "source": [
    "#Find and print hospital name  with minimum count of show appointments\n",
    "[df_neighbourhood.idxmin(), df_neighbourhood.min()]"
   ]
  },
  {
   "cell_type": "code",
   "execution_count": 20,
   "metadata": {
    "scrolled": true
   },
   "outputs": [
    {
     "data": {
      "text/plain": [
       "<matplotlib.axes._subplots.AxesSubplot at 0x7f27bdf51c88>"
      ]
     },
     "execution_count": 20,
     "metadata": {},
     "output_type": "execute_result"
    },
    {
     "data": {
      "image/png": "[encoded data removed]",
      "text/plain": [
       "<matplotlib.figure.Figure at 0x7f27bde76780>"
      ]
     },
     "metadata": {},
     "output_type": "display_data"
    }
   ],
   "source": [
    "#Visualization: Show appointments by Hospital(Neighbourhood)\n",
    "df_show.groupby(['Neighbourhood'])['AppointmentID'].count().plot(kind='bar', fontsize=7, figsize=(15,10), title='Show appointments by Hospital(Neighbourhood)')"
   ]
  },
  {
   "cell_type": "markdown",
   "metadata": {},
   "source": [
    "The maximum number of show appointments(6252) is in JARDIM CAMBURI hospital.The minimum number of show appointments(1) is in PARQUE INDUSTRIAL hospital."
   ]
  },
  {
   "cell_type": "markdown",
   "metadata": {},
   "source": [
    "### Research Question 3: How depend show-up from: gender, age,  if patient has a scholarship(enrolled in Bolsa Familia), if patient has hipertension, diabebetis, alcoholism, handicapted\n"
   ]
  },
  {
   "cell_type": "code",
   "execution_count": 21,
   "metadata": {
    "scrolled": true
   },
   "outputs": [
    {
     "data": {
      "text/plain": [
       "30962"
      ]
     },
     "execution_count": 21,
     "metadata": {},
     "output_type": "execute_result"
    }
   ],
   "source": [
    "#total men that shows on appointment\n",
    "df_show_M = df_show[df_show['Gender'] == 'M']\n",
    "df_show_M['Gender'].count()"
   ]
  },
  {
   "cell_type": "code",
   "execution_count": 22,
   "metadata": {
    "scrolled": true
   },
   "outputs": [
    {
     "data": {
      "text/plain": [
       "38687"
      ]
     },
     "execution_count": 22,
     "metadata": {},
     "output_type": "execute_result"
    }
   ],
   "source": [
    "#total men with appointments scheduled\n",
    "df_M = df[df['Gender'] == 'M']\n",
    "df_M['Gender'].count()"
   ]
  },
  {
   "cell_type": "code",
   "execution_count": 23,
   "metadata": {
    "scrolled": true
   },
   "outputs": [
    {
     "data": {
      "text/plain": [
       "80.032052110528085"
      ]
     },
     "execution_count": 23,
     "metadata": {},
     "output_type": "execute_result"
    }
   ],
   "source": [
    "pct_M = (df_show_M['Gender'].count()/df_M['Gender'].count())*100\n",
    "pct_M"
   ]
  },
  {
   "cell_type": "markdown",
   "metadata": {},
   "source": [
    "The percentage of men thet show on appoitment is 80.03%"
   ]
  },
  {
   "cell_type": "code",
   "execution_count": 24,
   "metadata": {
    "scrolled": true
   },
   "outputs": [
    {
     "data": {
      "text/plain": [
       "57245"
      ]
     },
     "execution_count": 24,
     "metadata": {},
     "output_type": "execute_result"
    }
   ],
   "source": [
    "#total women that shows on appointment\n",
    "df_show_F = df_show[df_show['Gender'] == 'F']\n",
    "df_show_F['Gender'].count()"
   ]
  },
  {
   "cell_type": "code",
   "execution_count": 25,
   "metadata": {
    "scrolled": true
   },
   "outputs": [
    {
     "data": {
      "text/plain": [
       "71839"
      ]
     },
     "execution_count": 25,
     "metadata": {},
     "output_type": "execute_result"
    }
   ],
   "source": [
    "#total women with appointments scheduled\n",
    "df_F = df[df['Gender'] == 'F']\n",
    "df_F['Gender'].count()"
   ]
  },
  {
   "cell_type": "code",
   "execution_count": 26,
   "metadata": {
    "scrolled": true
   },
   "outputs": [
    {
     "data": {
      "text/plain": [
       "79.685129247344761"
      ]
     },
     "execution_count": 26,
     "metadata": {},
     "output_type": "execute_result"
    }
   ],
   "source": [
    "pct_F = (df_show_F['Gender'].count()/df_F['Gender'].count())*100\n",
    "pct_F"
   ]
  },
  {
   "cell_type": "markdown",
   "metadata": {},
   "source": [
    "The percentage of women thet show on appointment is 79.68%. Almost the same as men."
   ]
  },
  {
   "cell_type": "markdown",
   "metadata": {},
   "source": [
    "Let see how much patients (M,F) have scholarship."
   ]
  },
  {
   "cell_type": "code",
   "execution_count": 27,
   "metadata": {
    "scrolled": true
   },
   "outputs": [
    {
     "data": {
      "text/plain": [
       "6747"
      ]
     },
     "execution_count": 27,
     "metadata": {},
     "output_type": "execute_result"
    }
   ],
   "source": [
    "#total show women with shcolarship\n",
    "df_show_F_sholar = df_show_F[df_show_F['Scholarship'] == 1]\n",
    "df_show_F_sholar['Scholarship'].count()"
   ]
  },
  {
   "cell_type": "code",
   "execution_count": 28,
   "metadata": {
    "scrolled": true
   },
   "outputs": [
    {
     "data": {
      "text/plain": [
       "11.786182199318718"
      ]
     },
     "execution_count": 28,
     "metadata": {},
     "output_type": "execute_result"
    }
   ],
   "source": [
    "pct_F_scholar = (df_show_F_sholar['Scholarship'].count()/df_show_F['Gender'].count())*100\n",
    "pct_F_scholar"
   ]
  },
  {
   "cell_type": "markdown",
   "metadata": {},
   "source": [
    "Total show women was 57246, so among them with scholarship was only 11.79%"
   ]
  },
  {
   "cell_type": "code",
   "execution_count": 29,
   "metadata": {
    "scrolled": true
   },
   "outputs": [
    {
     "data": {
      "text/plain": [
       "1536"
      ]
     },
     "execution_count": 29,
     "metadata": {},
     "output_type": "execute_result"
    }
   ],
   "source": [
    "#total show men with shcolarship\n",
    "df_show_M_sholar = df_show_M[df_show_M['Scholarship'] == 1]\n",
    "df_show_M_sholar['Scholarship'].count()"
   ]
  },
  {
   "cell_type": "code",
   "execution_count": 30,
   "metadata": {
    "scrolled": true
   },
   "outputs": [
    {
     "data": {
      "text/plain": [
       "4.9609198372198176"
      ]
     },
     "execution_count": 30,
     "metadata": {},
     "output_type": "execute_result"
    }
   ],
   "source": [
    "pct_M_scholar = (df_show_M_sholar['Scholarship'].count()/df_show_M['Gender'].count())*100\n",
    "pct_M_scholar"
   ]
  },
  {
   "cell_type": "markdown",
   "metadata": {},
   "source": [
    "Total show men was 30962, so among them with scholarship was only 4.96%"
   ]
  },
  {
   "cell_type": "code",
   "execution_count": 31,
   "metadata": {
    "scrolled": true
   },
   "outputs": [
    {
     "data": {
      "image/png": "[encoded data removed]",
      "text/plain": [
       "<matplotlib.figure.Figure at 0x7f27bdc9d080>"
      ]
     },
     "metadata": {},
     "output_type": "display_data"
    }
   ],
   "source": [
    "#Visualization: men and women who shows with and without scholarship\n",
    "df_my = pd.DataFrame({'Scholarship':[pct_M_scholar,pct_F_scholar],\n",
    "                   'All':[pct_M, pct_F]})\n",
    "\n",
    "ax = df_my.plot(kind='bar', title = 'Patients that show depending on gender and scholarship')\n",
    "ax.set_xticklabels(['Male', 'Female'])\n",
    "plt.ylabel('Percentage')\n",
    "plt.show()"
   ]
  },
  {
   "cell_type": "code",
   "execution_count": 32,
   "metadata": {
    "scrolled": true
   },
   "outputs": [
    {
     "data": {
      "text/plain": [
       "count    88207.000000\n",
       "mean        37.790504\n",
       "std         23.338645\n",
       "min          0.000000\n",
       "25%         18.000000\n",
       "50%         38.000000\n",
       "75%         56.000000\n",
       "max        115.000000\n",
       "Name: Age, dtype: float64"
      ]
     },
     "execution_count": 32,
     "metadata": {},
     "output_type": "execute_result"
    }
   ],
   "source": [
    "#View values for cutting Age column\n",
    "df_show['Age'].describe()"
   ]
  },
  {
   "cell_type": "code",
   "execution_count": 33,
   "metadata": {
    "scrolled": true
   },
   "outputs": [],
   "source": [
    "#cut age to groups\n",
    "#bin_edges = [0, 18 , 38, 56, 115]"
   ]
  },
  {
   "cell_type": "code",
   "execution_count": 34,
   "metadata": {
    "scrolled": true
   },
   "outputs": [],
   "source": [
    "#labeles for each age group\n",
    "#bin_names = ['<=18', '19-38', '39-56', '57-115']"
   ]
  },
  {
   "cell_type": "code",
   "execution_count": 35,
   "metadata": {
    "scrolled": true
   },
   "outputs": [],
   "source": [
    "#Assign values to column \"Age_group\" based on cutting \"Age\" columns\n",
    "#df_show.loc[:, 'Age_group'] = pd.cut(df_show['Age'], bin_edges, labels=bin_names, include_lowest=True)"
   ]
  },
  {
   "cell_type": "code",
   "execution_count": 36,
   "metadata": {
    "scrolled": false
   },
   "outputs": [
    {
     "data": {
      "text/plain": [
       "0         57-115\n",
       "1          39-56\n",
       "2         57-115\n",
       "3           <=18\n",
       "4          39-56\n",
       "5         57-115\n",
       "8          19-38\n",
       "9          19-38\n",
       "10         19-38\n",
       "12         19-38\n",
       "13         19-38\n",
       "14         39-56\n",
       "15          <=18\n",
       "16         39-56\n",
       "18         19-38\n",
       "19         39-56\n",
       "23         39-56\n",
       "24        57-115\n",
       "25         39-56\n",
       "26         39-56\n",
       "27          <=18\n",
       "28         39-56\n",
       "29         19-38\n",
       "30         39-56\n",
       "32        57-115\n",
       "33         19-38\n",
       "34        57-115\n",
       "35          <=18\n",
       "36        57-115\n",
       "37        57-115\n",
       "           ...  \n",
       "110494     19-38\n",
       "110495     39-56\n",
       "110497    57-115\n",
       "110498    57-115\n",
       "110499    57-115\n",
       "110500    57-115\n",
       "110501     39-56\n",
       "110502     19-38\n",
       "110503    57-115\n",
       "110504      <=18\n",
       "110505     39-56\n",
       "110506      <=18\n",
       "110507      <=18\n",
       "110508    57-115\n",
       "110509     19-38\n",
       "110510    57-115\n",
       "110511      <=18\n",
       "110512     39-56\n",
       "110513      <=18\n",
       "110514    57-115\n",
       "110517     19-38\n",
       "110518     39-56\n",
       "110519     19-38\n",
       "110520     39-56\n",
       "110521     39-56\n",
       "110522     39-56\n",
       "110523     39-56\n",
       "110524     19-38\n",
       "110525     19-38\n",
       "110526     39-56\n",
       "Name: Age_group, Length: 88207, dtype: category\n",
       "Categories (4, object): [<=18 < 19-38 < 39-56 < 57-115]"
      ]
     },
     "execution_count": 36,
     "metadata": {},
     "output_type": "execute_result"
    }
   ],
   "source": [
    "#check \"Age_group\" column\n",
    "df_show['Age_group']"
   ]
  },
  {
   "cell_type": "code",
   "execution_count": 37,
   "metadata": {},
   "outputs": [],
   "source": [
    "df_show.to_csv('noshow_age_group.csv')"
   ]
  },
  {
   "cell_type": "code",
   "execution_count": 38,
   "metadata": {
    "scrolled": true
   },
   "outputs": [
    {
     "data": {
      "text/html": [
       "<div>\n",
       "<style>\n",
       "    .dataframe thead tr:only-child th {\n",
       "        text-align: right;\n",
       "    }\n",
       "\n",
       "    .dataframe thead th {\n",
       "        text-align: left;\n",
       "    }\n",
       "\n",
       "    .dataframe tbody tr th {\n",
       "        vertical-align: top;\n",
       "    }\n",
       "</style>\n",
       "<table border=\"1\" class=\"dataframe\">\n",
       "  <thead>\n",
       "    <tr style=\"text-align: right;\">\n",
       "      <th></th>\n",
       "      <th>Age_group</th>\n",
       "      <th>AppointmentID</th>\n",
       "    </tr>\n",
       "  </thead>\n",
       "  <tbody>\n",
       "    <tr>\n",
       "      <th>0</th>\n",
       "      <td>&lt;=18</td>\n",
       "      <td>22519</td>\n",
       "    </tr>\n",
       "    <tr>\n",
       "      <th>1</th>\n",
       "      <td>19-38</td>\n",
       "      <td>22145</td>\n",
       "    </tr>\n",
       "    <tr>\n",
       "      <th>2</th>\n",
       "      <td>39-56</td>\n",
       "      <td>21714</td>\n",
       "    </tr>\n",
       "    <tr>\n",
       "      <th>3</th>\n",
       "      <td>57-115</td>\n",
       "      <td>21829</td>\n",
       "    </tr>\n",
       "  </tbody>\n",
       "</table>\n",
       "</div>"
      ],
      "text/plain": [
       "  Age_group  AppointmentID\n",
       "0      <=18          22519\n",
       "1     19-38          22145\n",
       "2     39-56          21714\n",
       "3    57-115          21829"
      ]
     },
     "execution_count": 38,
     "metadata": {},
     "output_type": "execute_result"
    }
   ],
   "source": [
    "df_show.groupby('Age_group', as_index=False)['AppointmentID'].count()"
   ]
  },
  {
   "cell_type": "markdown",
   "metadata": {},
   "source": [
    "In this table we can see show appointments by age group."
   ]
  },
  {
   "cell_type": "code",
   "execution_count": 39,
   "metadata": {
    "scrolled": true
   },
   "outputs": [
    {
     "data": {
      "text/plain": [
       "<matplotlib.axes._subplots.AxesSubplot at 0x7f27bdc9def0>"
      ]
     },
     "execution_count": 39,
     "metadata": {},
     "output_type": "execute_result"
    },
    {
     "data": {
      "image/png": "[encoded data removed]",
      "text/plain": [
       "<matplotlib.figure.Figure at 0x7f27bdca4a58>"
      ]
     },
     "metadata": {},
     "output_type": "display_data"
    }
   ],
   "source": [
    "#Visualization\n",
    "df_show.groupby('Age_group')['AppointmentID'].count().plot(kind='pie', title = 'Show appointments by age groups')"
   ]
  },
  {
   "cell_type": "markdown",
   "metadata": {},
   "source": [
    "As we can see more show patients are in the age groups \"<=18\"and \"19-38\". Other two groups are present in almost eaqual quantity."
   ]
  },
  {
   "cell_type": "code",
   "execution_count": 40,
   "metadata": {
    "scrolled": true
   },
   "outputs": [
    {
     "data": {
      "text/plain": [
       "82.698041374248888"
      ]
     },
     "execution_count": 40,
     "metadata": {},
     "output_type": "execute_result"
    }
   ],
   "source": [
    "#if show patient has hipertension\n",
    "df_hip_show = df_show[df_show['Hipertension'] == 1]\n",
    "df_hip_show_count = df_hip_show['AppointmentID'].count()\n",
    "df_hip = df[df['Hipertension'] == 1]\n",
    "df_hip_count = df_hip['AppointmentID'].count()\n",
    "pct_hip_show = df_hip_show_count/df_hip_count*100\n",
    "pct_hip_show"
   ]
  },
  {
   "cell_type": "markdown",
   "metadata": {},
   "source": [
    " 82,7% patients with hipertension showed up"
   ]
  },
  {
   "cell_type": "code",
   "execution_count": 41,
   "metadata": {
    "scrolled": true
   },
   "outputs": [
    {
     "data": {
      "text/plain": [
       "81.99672667757774"
      ]
     },
     "execution_count": 41,
     "metadata": {},
     "output_type": "execute_result"
    }
   ],
   "source": [
    "df_dia_show = df_show[df_show['Diabetes'] == 1]\n",
    "df_dia_show_count = df_dia_show['AppointmentID'].count()\n",
    "df_dia = df[df['Diabetes'] == 1]\n",
    "df_dia_count = df_dia['AppointmentID'].count()\n",
    "pct_dia_show = df_dia_show_count/df_dia_count*100\n",
    "pct_dia_show"
   ]
  },
  {
   "cell_type": "markdown",
   "metadata": {},
   "source": [
    " 82% patients with diabetes showed up"
   ]
  },
  {
   "cell_type": "code",
   "execution_count": 42,
   "metadata": {
    "scrolled": true
   },
   "outputs": [
    {
     "data": {
      "text/plain": [
       "79.851190476190482"
      ]
     },
     "execution_count": 42,
     "metadata": {},
     "output_type": "execute_result"
    }
   ],
   "source": [
    "df_alc_show = df_show[df_show['Alcoholism'] == 1]\n",
    "df_alc_show_count = df_alc_show['AppointmentID'].count()\n",
    "df_alc = df[df['Alcoholism'] == 1]\n",
    "df_alc_count = df_alc['AppointmentID'].count()\n",
    "pct_alc_show = df_alc_show_count/df_alc_count*100\n",
    "pct_alc_show"
   ]
  },
  {
   "cell_type": "markdown",
   "metadata": {},
   "source": [
    "79.85% patients with alcoholism showed up"
   ]
  },
  {
   "cell_type": "code",
   "execution_count": 43,
   "metadata": {
    "scrolled": true
   },
   "outputs": [
    {
     "data": {
      "text/plain": [
       "82.07639569049951"
      ]
     },
     "execution_count": 43,
     "metadata": {},
     "output_type": "execute_result"
    }
   ],
   "source": [
    "df_cap_show = df_show[df_show['Handcap'] == 1]\n",
    "df_cap_show_count = df_cap_show['AppointmentID'].count()\n",
    "df_cap = df[df['Handcap'] == 1]\n",
    "df_cap_count = df_cap['AppointmentID'].count()\n",
    "pct_cap_show = df_cap_show_count/df_cap_count*100\n",
    "pct_cap_show"
   ]
  },
  {
   "cell_type": "markdown",
   "metadata": {},
   "source": [
    "82.08% handcaped patients showed up"
   ]
  },
  {
   "cell_type": "code",
   "execution_count": 44,
   "metadata": {
    "scrolled": true
   },
   "outputs": [
    {
     "data": {
      "image/png": "[encoded data removed]",
      "text/plain": [
       "<matplotlib.figure.Figure at 0x7f27bd72f0b8>"
      ]
     },
     "metadata": {},
     "output_type": "display_data"
    }
   ],
   "source": [
    "#Visualization: Percentage of patients that show depending on pre-existing health conditions\n",
    "df_my = pd.DataFrame({'Show':[pct_hip_show,pct_dia_show,pct_alc_show,pct_cap_show]})\n",
    "\n",
    "ax = df_my.plot(kind='bar', title = 'Patients that show depending on pre-existing health conditions')\n",
    "ax.set_xticklabels(['Hipertension', 'Diabetes', 'Alcoholism', 'Handcap'])\n",
    "plt.ylabel('Percentage')\n",
    "plt.show()\n"
   ]
  },
  {
   "cell_type": "markdown",
   "metadata": {},
   "source": [
    "People with alcoholism have a little more chances for no-show."
   ]
  },
  {
   "cell_type": "code",
   "execution_count": 45,
   "metadata": {
    "scrolled": true
   },
   "outputs": [
    {
     "data": {
      "text/html": [
       "<div>\n",
       "<style>\n",
       "    .dataframe thead tr:only-child th {\n",
       "        text-align: right;\n",
       "    }\n",
       "\n",
       "    .dataframe thead th {\n",
       "        text-align: left;\n",
       "    }\n",
       "\n",
       "    .dataframe tbody tr th {\n",
       "        vertical-align: top;\n",
       "    }\n",
       "</style>\n",
       "<table border=\"1\" class=\"dataframe\">\n",
       "  <thead>\n",
       "    <tr style=\"text-align: right;\">\n",
       "      <th></th>\n",
       "      <th>Age</th>\n",
       "      <th>Alcoholism</th>\n",
       "      <th>AppointmentID</th>\n",
       "      <th>Diabetes</th>\n",
       "      <th>Handcap</th>\n",
       "      <th>Hipertension</th>\n",
       "      <th>PatientId</th>\n",
       "      <th>SMS_received</th>\n",
       "      <th>Scholarship</th>\n",
       "      <th>Show</th>\n",
       "    </tr>\n",
       "  </thead>\n",
       "  <tbody>\n",
       "    <tr>\n",
       "      <th>Age</th>\n",
       "      <td>1.000000</td>\n",
       "      <td>0.095810</td>\n",
       "      <td>-0.019106</td>\n",
       "      <td>0.292391</td>\n",
       "      <td>0.078032</td>\n",
       "      <td>0.504586</td>\n",
       "      <td>-0.004121</td>\n",
       "      <td>0.012633</td>\n",
       "      <td>-0.092463</td>\n",
       "      <td>-0.060327</td>\n",
       "    </tr>\n",
       "    <tr>\n",
       "      <th>Alcoholism</th>\n",
       "      <td>0.095810</td>\n",
       "      <td>1.000000</td>\n",
       "      <td>0.032946</td>\n",
       "      <td>0.018473</td>\n",
       "      <td>0.004647</td>\n",
       "      <td>0.087970</td>\n",
       "      <td>0.011014</td>\n",
       "      <td>-0.026149</td>\n",
       "      <td>0.035022</td>\n",
       "      <td>-0.000197</td>\n",
       "    </tr>\n",
       "    <tr>\n",
       "      <th>AppointmentID</th>\n",
       "      <td>-0.019106</td>\n",
       "      <td>0.032946</td>\n",
       "      <td>1.000000</td>\n",
       "      <td>0.022632</td>\n",
       "      <td>0.014107</td>\n",
       "      <td>0.012759</td>\n",
       "      <td>0.004023</td>\n",
       "      <td>-0.256613</td>\n",
       "      <td>0.022619</td>\n",
       "      <td>-0.162597</td>\n",
       "    </tr>\n",
       "    <tr>\n",
       "      <th>Diabetes</th>\n",
       "      <td>0.292391</td>\n",
       "      <td>0.018473</td>\n",
       "      <td>0.022632</td>\n",
       "      <td>1.000000</td>\n",
       "      <td>0.057530</td>\n",
       "      <td>0.433085</td>\n",
       "      <td>0.001608</td>\n",
       "      <td>-0.014552</td>\n",
       "      <td>-0.024894</td>\n",
       "      <td>-0.015181</td>\n",
       "    </tr>\n",
       "    <tr>\n",
       "      <th>Handcap</th>\n",
       "      <td>0.078032</td>\n",
       "      <td>0.004647</td>\n",
       "      <td>0.014107</td>\n",
       "      <td>0.057530</td>\n",
       "      <td>1.000000</td>\n",
       "      <td>0.080083</td>\n",
       "      <td>-0.007915</td>\n",
       "      <td>-0.024162</td>\n",
       "      <td>-0.008587</td>\n",
       "      <td>-0.006077</td>\n",
       "    </tr>\n",
       "    <tr>\n",
       "      <th>Hipertension</th>\n",
       "      <td>0.504586</td>\n",
       "      <td>0.087970</td>\n",
       "      <td>0.012759</td>\n",
       "      <td>0.433085</td>\n",
       "      <td>0.080083</td>\n",
       "      <td>1.000000</td>\n",
       "      <td>-0.006436</td>\n",
       "      <td>-0.006270</td>\n",
       "      <td>-0.019730</td>\n",
       "      <td>-0.035704</td>\n",
       "    </tr>\n",
       "    <tr>\n",
       "      <th>PatientId</th>\n",
       "      <td>-0.004121</td>\n",
       "      <td>0.011014</td>\n",
       "      <td>0.004023</td>\n",
       "      <td>0.001608</td>\n",
       "      <td>-0.007915</td>\n",
       "      <td>-0.006436</td>\n",
       "      <td>1.000000</td>\n",
       "      <td>-0.009742</td>\n",
       "      <td>-0.002877</td>\n",
       "      <td>-0.001456</td>\n",
       "    </tr>\n",
       "    <tr>\n",
       "      <th>SMS_received</th>\n",
       "      <td>0.012633</td>\n",
       "      <td>-0.026149</td>\n",
       "      <td>-0.256613</td>\n",
       "      <td>-0.014552</td>\n",
       "      <td>-0.024162</td>\n",
       "      <td>-0.006270</td>\n",
       "      <td>-0.009742</td>\n",
       "      <td>1.000000</td>\n",
       "      <td>0.001192</td>\n",
       "      <td>0.126428</td>\n",
       "    </tr>\n",
       "    <tr>\n",
       "      <th>Scholarship</th>\n",
       "      <td>-0.092463</td>\n",
       "      <td>0.035022</td>\n",
       "      <td>0.022619</td>\n",
       "      <td>-0.024894</td>\n",
       "      <td>-0.008587</td>\n",
       "      <td>-0.019730</td>\n",
       "      <td>-0.002877</td>\n",
       "      <td>0.001192</td>\n",
       "      <td>1.000000</td>\n",
       "      <td>0.029134</td>\n",
       "    </tr>\n",
       "    <tr>\n",
       "      <th>Show</th>\n",
       "      <td>-0.060327</td>\n",
       "      <td>-0.000197</td>\n",
       "      <td>-0.162597</td>\n",
       "      <td>-0.015181</td>\n",
       "      <td>-0.006077</td>\n",
       "      <td>-0.035704</td>\n",
       "      <td>-0.001456</td>\n",
       "      <td>0.126428</td>\n",
       "      <td>0.029134</td>\n",
       "      <td>1.000000</td>\n",
       "    </tr>\n",
       "  </tbody>\n",
       "</table>\n",
       "</div>"
      ],
      "text/plain": [
       "                    Age  Alcoholism  AppointmentID  Diabetes   Handcap  \\\n",
       "Age            1.000000    0.095810      -0.019106  0.292391  0.078032   \n",
       "Alcoholism     0.095810    1.000000       0.032946  0.018473  0.004647   \n",
       "AppointmentID -0.019106    0.032946       1.000000  0.022632  0.014107   \n",
       "Diabetes       0.292391    0.018473       0.022632  1.000000  0.057530   \n",
       "Handcap        0.078032    0.004647       0.014107  0.057530  1.000000   \n",
       "Hipertension   0.504586    0.087970       0.012759  0.433085  0.080083   \n",
       "PatientId     -0.004121    0.011014       0.004023  0.001608 -0.007915   \n",
       "SMS_received   0.012633   -0.026149      -0.256613 -0.014552 -0.024162   \n",
       "Scholarship   -0.092463    0.035022       0.022619 -0.024894 -0.008587   \n",
       "Show          -0.060327   -0.000197      -0.162597 -0.015181 -0.006077   \n",
       "\n",
       "               Hipertension  PatientId  SMS_received  Scholarship      Show  \n",
       "Age                0.504586  -0.004121      0.012633    -0.092463 -0.060327  \n",
       "Alcoholism         0.087970   0.011014     -0.026149     0.035022 -0.000197  \n",
       "AppointmentID      0.012759   0.004023     -0.256613     0.022619 -0.162597  \n",
       "Diabetes           0.433085   0.001608     -0.014552    -0.024894 -0.015181  \n",
       "Handcap            0.080083  -0.007915     -0.024162    -0.008587 -0.006077  \n",
       "Hipertension       1.000000  -0.006436     -0.006270    -0.019730 -0.035704  \n",
       "PatientId         -0.006436   1.000000     -0.009742    -0.002877 -0.001456  \n",
       "SMS_received      -0.006270  -0.009742      1.000000     0.001192  0.126428  \n",
       "Scholarship       -0.019730  -0.002877      0.001192     1.000000  0.029134  \n",
       "Show              -0.035704  -0.001456      0.126428     0.029134  1.000000  "
      ]
     },
     "execution_count": 45,
     "metadata": {},
     "output_type": "execute_result"
    }
   ],
   "source": [
    "#See which columns are correlated\n",
    "df.corr()"
   ]
  },
  {
   "cell_type": "markdown",
   "metadata": {},
   "source": [
    "Based on this correlation table we can conclude that older people typicly have higher chances of hipertension and diabetes."
   ]
  },
  {
   "cell_type": "markdown",
   "metadata": {},
   "source": [
    "<a id='conclusions'></a>\n",
    "## Conclusions\n",
    "\n",
    "The dataset provided has some limitations. Specifically,the data provided in AppointmentDay column is from April 2016 to June 2016 which is not enough to make comprehensive analysis taking into account seasonal patterns. Overall the size of the dataset is relatively small (110527 records for 81 hospitals). In the Age column an invalid value(-1) was found and this record was excluded from the analysis.\n",
    "By the result of the study no significant correlation was identified between meaningful variables. It could be a logical dependency between no-show events and pre-existing medical conditions, age, medical insurance(scholarship).The assumption is that people in Brazil do not use medical insurance as much as people in the US, that's why no-show events will likely not to be caused by the lack of medical insurance.\n",
    "Analyzing data of No-show appointments in Brazil we can conclude following:\n",
    "- 79.8% patients that scheduled appointment showed up\n",
    "- the maximum number of show-up appointments is in Jardim Camburi hospital, the minimum is in Parque Idustrial\n",
    "- depending on gender:80,03% of men was showed up and 79,68% of women (almost equally)\n",
    "- depending on scholarship: among men only 4.96% with scholarship, among women - 11,79%. So mostly patients don't have schollarship, and men more likely without scholarship than woman\n",
    "- according to the age group: more show-up patients is in the \"<=18\" and \"19-38\" age groups \n",
    "- depending on pre-existing conditions: 82,7% patients with hipertension show up, 79.85% with alcoholism, 82.08% handcaped and 82% with diabetis. So this conditions don't have much impact for no-show, just people with alcoholism have a little more chances to miss the appointment.\n",
    "\n",
    "If I would analyze this date set further, I would extend analyis depending on sms received, how far in advance appointment was scheduled and if people's behavior depends on day of the week. Also it would be helpful to have time of the day included in the AppoitmentDay column similar to how time of the day is included in ScheduledDay column.\n",
    "\n",
    "Practical application of this analysis is in healthcare industry. Results obtained in conjunction with more extended analysis and similar studies could be helpful to optimize medical appointment scheduling in Brazil.\n"
   ]
  },
  {
   "cell_type": "code",
   "execution_count": 1,
   "metadata": {
    "scrolled": false
   },
   "outputs": [
    {
     "data": {
      "text/plain": [
       "0"
      ]
     },
     "execution_count": 1,
     "metadata": {},
     "output_type": "execute_result"
    }
   ],
   "source": [
    "from subprocess import call\n",
    "call(['python', '-m', 'nbconvert', 'Investigate_a_Dataset.ipynb'])"
   ]
  },
  {
   "cell_type": "code",
   "execution_count": null,
   "metadata": {
    "scrolled": true
   },
   "outputs": [],
   "source": []
  }
 ],
 "metadata": {
  "kernelspec": {
   "display_name": "Python 3",
   "language": "python",
   "name": "python3"
  },
  "language_info": {
   "codemirror_mode": {
    "name": "ipython",
    "version": 3
   },
   "file_extension": ".py",
   "mimetype": "text/x-python",
   "name": "python",
   "nbconvert_exporter": "python",
   "pygments_lexer": "ipython3",
   "version": "3.6.3"
  }
 },
 "nbformat": 4,
 "nbformat_minor": 2
}
